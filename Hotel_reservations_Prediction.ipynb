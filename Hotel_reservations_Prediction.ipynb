{
  "nbformat": 4,
  "nbformat_minor": 0,
  "metadata": {
    "colab": {
      "provenance": []
    },
    "kernelspec": {
      "name": "python3",
      "display_name": "Python 3"
    },
    "language_info": {
      "name": "python"
    }
  },
  "cells": [
    {
      "cell_type": "code",
      "execution_count": 2,
      "metadata": {
        "id": "20lc7SnpUwhz"
      },
      "outputs": [],
      "source": [
        "import numpy as np\n",
        "import pandas as pd\n",
        "import matplotlib.pyplot as plt\n",
        "import seaborn as sns\n",
        "from sklearn.metrics import accuracy_score\n",
        "from sklearn.linear_model import LogisticRegression\n",
        "from sklearn.ensemble import RandomForestClassifier\n",
        "from sklearn.tree import DecisionTreeClassifier\n",
        "from sklearn.naive_bayes import GaussianNB\n",
        "from sklearn.svm import LinearSVC\n",
        "import warnings\n",
        "warnings.simplefilter('ignore')"
      ]
    },
    {
      "cell_type": "markdown",
      "source": [
        " **LOAD DATASET**"
      ],
      "metadata": {
        "id": "GpvXi6f5qOi9"
      }
    },
    {
      "cell_type": "code",
      "source": [
        "df=pd.read_csv('/content/Hotel Reservations - Hotel Reservations.csv')"
      ],
      "metadata": {
        "id": "o5r6KtviaH9v"
      },
      "execution_count": 3,
      "outputs": []
    },
    {
      "cell_type": "markdown",
      "source": [
        "**EXPLORATORY DATA ANALYSIS**"
      ],
      "metadata": {
        "id": "yOQS0t51qgPj"
      }
    },
    {
      "cell_type": "code",
      "source": [
        "df.columns"
      ],
      "metadata": {
        "colab": {
          "base_uri": "https://localhost:8080/"
        },
        "id": "8raycM7yawl5",
        "outputId": "c91831ab-5012-4c16-9021-3e45790c7850"
      },
      "execution_count": 4,
      "outputs": [
        {
          "output_type": "execute_result",
          "data": {
            "text/plain": [
              "Index(['Booking_ID', 'no_of_adults', 'no_of_children', 'no_of_weekend_nights',\n",
              "       'no_of_week_nights', 'type_of_meal_plan', 'required_car_parking_space',\n",
              "       'room_type_reserved', 'lead_time', 'arrival_year', 'arrival_month',\n",
              "       'arrival_date', 'market_segment_type', 'repeated_guest',\n",
              "       'no_of_previous_cancellations', 'no_of_previous_bookings_not_canceled',\n",
              "       'avg_price_per_room', 'no_of_special_requests', 'booking_status'],\n",
              "      dtype='object')"
            ]
          },
          "metadata": {},
          "execution_count": 4
        }
      ]
    },
    {
      "cell_type": "code",
      "source": [
        "df.head(10)"
      ],
      "metadata": {
        "colab": {
          "base_uri": "https://localhost:8080/",
          "height": 427
        },
        "id": "XgURpY4vawo1",
        "outputId": "f0694a45-0ece-4514-bebf-f48996d0c78f"
      },
      "execution_count": 5,
      "outputs": [
        {
          "output_type": "execute_result",
          "data": {
            "text/plain": [
              "  Booking_ID  no_of_adults  no_of_children  no_of_weekend_nights  \\\n",
              "0   INN00001           2.0             0.0                   1.0   \n",
              "1   INN00002           2.0             0.0                   2.0   \n",
              "2   INN00003           1.0             0.0                   2.0   \n",
              "3   INN00004           2.0             0.0                   0.0   \n",
              "4   INN00005           2.0             0.0                   1.0   \n",
              "5   INN00006           2.0             0.0                   0.0   \n",
              "6   INN00007           2.0             0.0                   1.0   \n",
              "7   INN00008           2.0             0.0                   1.0   \n",
              "8   INN00009           3.0             0.0                   0.0   \n",
              "9   INN00010           2.0             0.0                   0.0   \n",
              "\n",
              "   no_of_week_nights type_of_meal_plan  required_car_parking_space  \\\n",
              "0                2.0       Meal Plan 1                         0.0   \n",
              "1                3.0      Not Selected                         0.0   \n",
              "2                1.0       Meal Plan 1                         0.0   \n",
              "3                2.0       Meal Plan 1                         0.0   \n",
              "4                1.0      Not Selected                         0.0   \n",
              "5                2.0       Meal Plan 2                         0.0   \n",
              "6                3.0       Meal Plan 1                         0.0   \n",
              "7                3.0       Meal Plan 1                         0.0   \n",
              "8                4.0       Meal Plan 1                         0.0   \n",
              "9                5.0       Meal Plan 1                         0.0   \n",
              "\n",
              "  room_type_reserved  lead_time  arrival_year  arrival_month  arrival_date  \\\n",
              "0        Room_Type 1      224.0        2017.0           10.0           2.0   \n",
              "1        Room_Type 1        5.0        2018.0           11.0           6.0   \n",
              "2        Room_Type 1        1.0        2018.0            2.0          28.0   \n",
              "3        Room_Type 1      211.0        2018.0            5.0          20.0   \n",
              "4        Room_Type 1       48.0        2018.0            4.0          11.0   \n",
              "5        Room_Type 1      346.0        2018.0            9.0          13.0   \n",
              "6        Room_Type 1       34.0        2017.0           10.0          15.0   \n",
              "7        Room_Type 4       83.0        2018.0           12.0          26.0   \n",
              "8        Room_Type 1      121.0        2018.0            7.0           6.0   \n",
              "9        Room_Type 4       44.0        2018.0           10.0          18.0   \n",
              "\n",
              "  market_segment_type  repeated_guest  no_of_previous_cancellations  \\\n",
              "0             Offline             0.0                           0.0   \n",
              "1              Online             0.0                           0.0   \n",
              "2              Online             0.0                           0.0   \n",
              "3              Online             0.0                           0.0   \n",
              "4              Online             0.0                           0.0   \n",
              "5              Online             0.0                           0.0   \n",
              "6              Online             0.0                           0.0   \n",
              "7              Online             0.0                           0.0   \n",
              "8             Offline             0.0                           0.0   \n",
              "9              Online             0.0                           0.0   \n",
              "\n",
              "   no_of_previous_bookings_not_canceled  avg_price_per_room  \\\n",
              "0                                   0.0               65.00   \n",
              "1                                   0.0              106.68   \n",
              "2                                   0.0               60.00   \n",
              "3                                   0.0              100.00   \n",
              "4                                   0.0               94.50   \n",
              "5                                   0.0              115.00   \n",
              "6                                   0.0              107.55   \n",
              "7                                   0.0              105.61   \n",
              "8                                   0.0               96.90   \n",
              "9                                   0.0              133.44   \n",
              "\n",
              "   no_of_special_requests booking_status  \n",
              "0                     0.0   Not_Canceled  \n",
              "1                     1.0   Not_Canceled  \n",
              "2                     0.0       Canceled  \n",
              "3                     0.0       Canceled  \n",
              "4                     0.0       Canceled  \n",
              "5                     1.0       Canceled  \n",
              "6                     1.0   Not_Canceled  \n",
              "7                     1.0   Not_Canceled  \n",
              "8                     1.0   Not_Canceled  \n",
              "9                     3.0   Not_Canceled  "
            ],
            "text/html": [
              "\n",
              "  <div id=\"df-d24aa52c-51b6-4d57-a8c3-500c02636ea6\">\n",
              "    <div class=\"colab-df-container\">\n",
              "      <div>\n",
              "<style scoped>\n",
              "    .dataframe tbody tr th:only-of-type {\n",
              "        vertical-align: middle;\n",
              "    }\n",
              "\n",
              "    .dataframe tbody tr th {\n",
              "        vertical-align: top;\n",
              "    }\n",
              "\n",
              "    .dataframe thead th {\n",
              "        text-align: right;\n",
              "    }\n",
              "</style>\n",
              "<table border=\"1\" class=\"dataframe\">\n",
              "  <thead>\n",
              "    <tr style=\"text-align: right;\">\n",
              "      <th></th>\n",
              "      <th>Booking_ID</th>\n",
              "      <th>no_of_adults</th>\n",
              "      <th>no_of_children</th>\n",
              "      <th>no_of_weekend_nights</th>\n",
              "      <th>no_of_week_nights</th>\n",
              "      <th>type_of_meal_plan</th>\n",
              "      <th>required_car_parking_space</th>\n",
              "      <th>room_type_reserved</th>\n",
              "      <th>lead_time</th>\n",
              "      <th>arrival_year</th>\n",
              "      <th>arrival_month</th>\n",
              "      <th>arrival_date</th>\n",
              "      <th>market_segment_type</th>\n",
              "      <th>repeated_guest</th>\n",
              "      <th>no_of_previous_cancellations</th>\n",
              "      <th>no_of_previous_bookings_not_canceled</th>\n",
              "      <th>avg_price_per_room</th>\n",
              "      <th>no_of_special_requests</th>\n",
              "      <th>booking_status</th>\n",
              "    </tr>\n",
              "  </thead>\n",
              "  <tbody>\n",
              "    <tr>\n",
              "      <th>0</th>\n",
              "      <td>INN00001</td>\n",
              "      <td>2.0</td>\n",
              "      <td>0.0</td>\n",
              "      <td>1.0</td>\n",
              "      <td>2.0</td>\n",
              "      <td>Meal Plan 1</td>\n",
              "      <td>0.0</td>\n",
              "      <td>Room_Type 1</td>\n",
              "      <td>224.0</td>\n",
              "      <td>2017.0</td>\n",
              "      <td>10.0</td>\n",
              "      <td>2.0</td>\n",
              "      <td>Offline</td>\n",
              "      <td>0.0</td>\n",
              "      <td>0.0</td>\n",
              "      <td>0.0</td>\n",
              "      <td>65.00</td>\n",
              "      <td>0.0</td>\n",
              "      <td>Not_Canceled</td>\n",
              "    </tr>\n",
              "    <tr>\n",
              "      <th>1</th>\n",
              "      <td>INN00002</td>\n",
              "      <td>2.0</td>\n",
              "      <td>0.0</td>\n",
              "      <td>2.0</td>\n",
              "      <td>3.0</td>\n",
              "      <td>Not Selected</td>\n",
              "      <td>0.0</td>\n",
              "      <td>Room_Type 1</td>\n",
              "      <td>5.0</td>\n",
              "      <td>2018.0</td>\n",
              "      <td>11.0</td>\n",
              "      <td>6.0</td>\n",
              "      <td>Online</td>\n",
              "      <td>0.0</td>\n",
              "      <td>0.0</td>\n",
              "      <td>0.0</td>\n",
              "      <td>106.68</td>\n",
              "      <td>1.0</td>\n",
              "      <td>Not_Canceled</td>\n",
              "    </tr>\n",
              "    <tr>\n",
              "      <th>2</th>\n",
              "      <td>INN00003</td>\n",
              "      <td>1.0</td>\n",
              "      <td>0.0</td>\n",
              "      <td>2.0</td>\n",
              "      <td>1.0</td>\n",
              "      <td>Meal Plan 1</td>\n",
              "      <td>0.0</td>\n",
              "      <td>Room_Type 1</td>\n",
              "      <td>1.0</td>\n",
              "      <td>2018.0</td>\n",
              "      <td>2.0</td>\n",
              "      <td>28.0</td>\n",
              "      <td>Online</td>\n",
              "      <td>0.0</td>\n",
              "      <td>0.0</td>\n",
              "      <td>0.0</td>\n",
              "      <td>60.00</td>\n",
              "      <td>0.0</td>\n",
              "      <td>Canceled</td>\n",
              "    </tr>\n",
              "    <tr>\n",
              "      <th>3</th>\n",
              "      <td>INN00004</td>\n",
              "      <td>2.0</td>\n",
              "      <td>0.0</td>\n",
              "      <td>0.0</td>\n",
              "      <td>2.0</td>\n",
              "      <td>Meal Plan 1</td>\n",
              "      <td>0.0</td>\n",
              "      <td>Room_Type 1</td>\n",
              "      <td>211.0</td>\n",
              "      <td>2018.0</td>\n",
              "      <td>5.0</td>\n",
              "      <td>20.0</td>\n",
              "      <td>Online</td>\n",
              "      <td>0.0</td>\n",
              "      <td>0.0</td>\n",
              "      <td>0.0</td>\n",
              "      <td>100.00</td>\n",
              "      <td>0.0</td>\n",
              "      <td>Canceled</td>\n",
              "    </tr>\n",
              "    <tr>\n",
              "      <th>4</th>\n",
              "      <td>INN00005</td>\n",
              "      <td>2.0</td>\n",
              "      <td>0.0</td>\n",
              "      <td>1.0</td>\n",
              "      <td>1.0</td>\n",
              "      <td>Not Selected</td>\n",
              "      <td>0.0</td>\n",
              "      <td>Room_Type 1</td>\n",
              "      <td>48.0</td>\n",
              "      <td>2018.0</td>\n",
              "      <td>4.0</td>\n",
              "      <td>11.0</td>\n",
              "      <td>Online</td>\n",
              "      <td>0.0</td>\n",
              "      <td>0.0</td>\n",
              "      <td>0.0</td>\n",
              "      <td>94.50</td>\n",
              "      <td>0.0</td>\n",
              "      <td>Canceled</td>\n",
              "    </tr>\n",
              "    <tr>\n",
              "      <th>5</th>\n",
              "      <td>INN00006</td>\n",
              "      <td>2.0</td>\n",
              "      <td>0.0</td>\n",
              "      <td>0.0</td>\n",
              "      <td>2.0</td>\n",
              "      <td>Meal Plan 2</td>\n",
              "      <td>0.0</td>\n",
              "      <td>Room_Type 1</td>\n",
              "      <td>346.0</td>\n",
              "      <td>2018.0</td>\n",
              "      <td>9.0</td>\n",
              "      <td>13.0</td>\n",
              "      <td>Online</td>\n",
              "      <td>0.0</td>\n",
              "      <td>0.0</td>\n",
              "      <td>0.0</td>\n",
              "      <td>115.00</td>\n",
              "      <td>1.0</td>\n",
              "      <td>Canceled</td>\n",
              "    </tr>\n",
              "    <tr>\n",
              "      <th>6</th>\n",
              "      <td>INN00007</td>\n",
              "      <td>2.0</td>\n",
              "      <td>0.0</td>\n",
              "      <td>1.0</td>\n",
              "      <td>3.0</td>\n",
              "      <td>Meal Plan 1</td>\n",
              "      <td>0.0</td>\n",
              "      <td>Room_Type 1</td>\n",
              "      <td>34.0</td>\n",
              "      <td>2017.0</td>\n",
              "      <td>10.0</td>\n",
              "      <td>15.0</td>\n",
              "      <td>Online</td>\n",
              "      <td>0.0</td>\n",
              "      <td>0.0</td>\n",
              "      <td>0.0</td>\n",
              "      <td>107.55</td>\n",
              "      <td>1.0</td>\n",
              "      <td>Not_Canceled</td>\n",
              "    </tr>\n",
              "    <tr>\n",
              "      <th>7</th>\n",
              "      <td>INN00008</td>\n",
              "      <td>2.0</td>\n",
              "      <td>0.0</td>\n",
              "      <td>1.0</td>\n",
              "      <td>3.0</td>\n",
              "      <td>Meal Plan 1</td>\n",
              "      <td>0.0</td>\n",
              "      <td>Room_Type 4</td>\n",
              "      <td>83.0</td>\n",
              "      <td>2018.0</td>\n",
              "      <td>12.0</td>\n",
              "      <td>26.0</td>\n",
              "      <td>Online</td>\n",
              "      <td>0.0</td>\n",
              "      <td>0.0</td>\n",
              "      <td>0.0</td>\n",
              "      <td>105.61</td>\n",
              "      <td>1.0</td>\n",
              "      <td>Not_Canceled</td>\n",
              "    </tr>\n",
              "    <tr>\n",
              "      <th>8</th>\n",
              "      <td>INN00009</td>\n",
              "      <td>3.0</td>\n",
              "      <td>0.0</td>\n",
              "      <td>0.0</td>\n",
              "      <td>4.0</td>\n",
              "      <td>Meal Plan 1</td>\n",
              "      <td>0.0</td>\n",
              "      <td>Room_Type 1</td>\n",
              "      <td>121.0</td>\n",
              "      <td>2018.0</td>\n",
              "      <td>7.0</td>\n",
              "      <td>6.0</td>\n",
              "      <td>Offline</td>\n",
              "      <td>0.0</td>\n",
              "      <td>0.0</td>\n",
              "      <td>0.0</td>\n",
              "      <td>96.90</td>\n",
              "      <td>1.0</td>\n",
              "      <td>Not_Canceled</td>\n",
              "    </tr>\n",
              "    <tr>\n",
              "      <th>9</th>\n",
              "      <td>INN00010</td>\n",
              "      <td>2.0</td>\n",
              "      <td>0.0</td>\n",
              "      <td>0.0</td>\n",
              "      <td>5.0</td>\n",
              "      <td>Meal Plan 1</td>\n",
              "      <td>0.0</td>\n",
              "      <td>Room_Type 4</td>\n",
              "      <td>44.0</td>\n",
              "      <td>2018.0</td>\n",
              "      <td>10.0</td>\n",
              "      <td>18.0</td>\n",
              "      <td>Online</td>\n",
              "      <td>0.0</td>\n",
              "      <td>0.0</td>\n",
              "      <td>0.0</td>\n",
              "      <td>133.44</td>\n",
              "      <td>3.0</td>\n",
              "      <td>Not_Canceled</td>\n",
              "    </tr>\n",
              "  </tbody>\n",
              "</table>\n",
              "</div>\n",
              "      <button class=\"colab-df-convert\" onclick=\"convertToInteractive('df-d24aa52c-51b6-4d57-a8c3-500c02636ea6')\"\n",
              "              title=\"Convert this dataframe to an interactive table.\"\n",
              "              style=\"display:none;\">\n",
              "        \n",
              "  <svg xmlns=\"http://www.w3.org/2000/svg\" height=\"24px\"viewBox=\"0 0 24 24\"\n",
              "       width=\"24px\">\n",
              "    <path d=\"M0 0h24v24H0V0z\" fill=\"none\"/>\n",
              "    <path d=\"M18.56 5.44l.94 2.06.94-2.06 2.06-.94-2.06-.94-.94-2.06-.94 2.06-2.06.94zm-11 1L8.5 8.5l.94-2.06 2.06-.94-2.06-.94L8.5 2.5l-.94 2.06-2.06.94zm10 10l.94 2.06.94-2.06 2.06-.94-2.06-.94-.94-2.06-.94 2.06-2.06.94z\"/><path d=\"M17.41 7.96l-1.37-1.37c-.4-.4-.92-.59-1.43-.59-.52 0-1.04.2-1.43.59L10.3 9.45l-7.72 7.72c-.78.78-.78 2.05 0 2.83L4 21.41c.39.39.9.59 1.41.59.51 0 1.02-.2 1.41-.59l7.78-7.78 2.81-2.81c.8-.78.8-2.07 0-2.86zM5.41 20L4 18.59l7.72-7.72 1.47 1.35L5.41 20z\"/>\n",
              "  </svg>\n",
              "      </button>\n",
              "      \n",
              "  <style>\n",
              "    .colab-df-container {\n",
              "      display:flex;\n",
              "      flex-wrap:wrap;\n",
              "      gap: 12px;\n",
              "    }\n",
              "\n",
              "    .colab-df-convert {\n",
              "      background-color: #E8F0FE;\n",
              "      border: none;\n",
              "      border-radius: 50%;\n",
              "      cursor: pointer;\n",
              "      display: none;\n",
              "      fill: #1967D2;\n",
              "      height: 32px;\n",
              "      padding: 0 0 0 0;\n",
              "      width: 32px;\n",
              "    }\n",
              "\n",
              "    .colab-df-convert:hover {\n",
              "      background-color: #E2EBFA;\n",
              "      box-shadow: 0px 1px 2px rgba(60, 64, 67, 0.3), 0px 1px 3px 1px rgba(60, 64, 67, 0.15);\n",
              "      fill: #174EA6;\n",
              "    }\n",
              "\n",
              "    [theme=dark] .colab-df-convert {\n",
              "      background-color: #3B4455;\n",
              "      fill: #D2E3FC;\n",
              "    }\n",
              "\n",
              "    [theme=dark] .colab-df-convert:hover {\n",
              "      background-color: #434B5C;\n",
              "      box-shadow: 0px 1px 3px 1px rgba(0, 0, 0, 0.15);\n",
              "      filter: drop-shadow(0px 1px 2px rgba(0, 0, 0, 0.3));\n",
              "      fill: #FFFFFF;\n",
              "    }\n",
              "  </style>\n",
              "\n",
              "      <script>\n",
              "        const buttonEl =\n",
              "          document.querySelector('#df-d24aa52c-51b6-4d57-a8c3-500c02636ea6 button.colab-df-convert');\n",
              "        buttonEl.style.display =\n",
              "          google.colab.kernel.accessAllowed ? 'block' : 'none';\n",
              "\n",
              "        async function convertToInteractive(key) {\n",
              "          const element = document.querySelector('#df-d24aa52c-51b6-4d57-a8c3-500c02636ea6');\n",
              "          const dataTable =\n",
              "            await google.colab.kernel.invokeFunction('convertToInteractive',\n",
              "                                                     [key], {});\n",
              "          if (!dataTable) return;\n",
              "\n",
              "          const docLinkHtml = 'Like what you see? Visit the ' +\n",
              "            '<a target=\"_blank\" href=https://colab.research.google.com/notebooks/data_table.ipynb>data table notebook</a>'\n",
              "            + ' to learn more about interactive tables.';\n",
              "          element.innerHTML = '';\n",
              "          dataTable['output_type'] = 'display_data';\n",
              "          await google.colab.output.renderOutput(dataTable, element);\n",
              "          const docLink = document.createElement('div');\n",
              "          docLink.innerHTML = docLinkHtml;\n",
              "          element.appendChild(docLink);\n",
              "        }\n",
              "      </script>\n",
              "    </div>\n",
              "  </div>\n",
              "  "
            ]
          },
          "metadata": {},
          "execution_count": 5
        }
      ]
    },
    {
      "cell_type": "code",
      "source": [
        "df.shape"
      ],
      "metadata": {
        "colab": {
          "base_uri": "https://localhost:8080/"
        },
        "id": "xYTSuc-eawr9",
        "outputId": "15078117-a401-4178-c5b0-58cd56280509"
      },
      "execution_count": 6,
      "outputs": [
        {
          "output_type": "execute_result",
          "data": {
            "text/plain": [
              "(36278, 19)"
            ]
          },
          "metadata": {},
          "execution_count": 6
        }
      ]
    },
    {
      "cell_type": "code",
      "source": [
        "df.info()"
      ],
      "metadata": {
        "colab": {
          "base_uri": "https://localhost:8080/"
        },
        "id": "5J11R9u-q6O-",
        "outputId": "8ebb1c3b-6839-43b3-ceb7-bcb149189033"
      },
      "execution_count": 7,
      "outputs": [
        {
          "output_type": "stream",
          "name": "stdout",
          "text": [
            "<class 'pandas.core.frame.DataFrame'>\n",
            "RangeIndex: 36278 entries, 0 to 36277\n",
            "Data columns (total 19 columns):\n",
            " #   Column                                Non-Null Count  Dtype  \n",
            "---  ------                                --------------  -----  \n",
            " 0   Booking_ID                            36278 non-null  object \n",
            " 1   no_of_adults                          36275 non-null  float64\n",
            " 2   no_of_children                        36275 non-null  float64\n",
            " 3   no_of_weekend_nights                  36275 non-null  float64\n",
            " 4   no_of_week_nights                     36275 non-null  float64\n",
            " 5   type_of_meal_plan                     36275 non-null  object \n",
            " 6   required_car_parking_space            36275 non-null  float64\n",
            " 7   room_type_reserved                    36275 non-null  object \n",
            " 8   lead_time                             36275 non-null  float64\n",
            " 9   arrival_year                          36275 non-null  float64\n",
            " 10  arrival_month                         36275 non-null  float64\n",
            " 11  arrival_date                          36275 non-null  float64\n",
            " 12  market_segment_type                   36275 non-null  object \n",
            " 13  repeated_guest                        36275 non-null  float64\n",
            " 14  no_of_previous_cancellations          36275 non-null  float64\n",
            " 15  no_of_previous_bookings_not_canceled  36275 non-null  float64\n",
            " 16  avg_price_per_room                    36275 non-null  float64\n",
            " 17  no_of_special_requests                36275 non-null  float64\n",
            " 18  booking_status                        36275 non-null  object \n",
            "dtypes: float64(14), object(5)\n",
            "memory usage: 5.3+ MB\n"
          ]
        }
      ]
    },
    {
      "cell_type": "code",
      "source": [
        "df.describe()"
      ],
      "metadata": {
        "id": "Tb5HZVkrrCPY",
        "colab": {
          "base_uri": "https://localhost:8080/",
          "height": 364
        },
        "outputId": "369a9e1f-93cd-470a-b7d7-2eeb6b9dd193"
      },
      "execution_count": 8,
      "outputs": [
        {
          "output_type": "execute_result",
          "data": {
            "text/plain": [
              "       no_of_adults  no_of_children  no_of_weekend_nights  no_of_week_nights  \\\n",
              "count  36275.000000    36275.000000          36275.000000       36275.000000   \n",
              "mean       1.844962        0.105279              0.810724           2.204300   \n",
              "std        0.518715        0.402648              0.870644           1.410905   \n",
              "min        0.000000        0.000000              0.000000           0.000000   \n",
              "25%        2.000000        0.000000              0.000000           1.000000   \n",
              "50%        2.000000        0.000000              1.000000           2.000000   \n",
              "75%        2.000000        0.000000              2.000000           3.000000   \n",
              "max        4.000000       10.000000              7.000000          17.000000   \n",
              "\n",
              "       required_car_parking_space     lead_time  arrival_year  arrival_month  \\\n",
              "count                36275.000000  36275.000000  36275.000000   36275.000000   \n",
              "mean                     0.030986     85.232557   2017.820427       7.423653   \n",
              "std                      0.173281     85.930817      0.383836       3.069894   \n",
              "min                      0.000000      0.000000   2017.000000       1.000000   \n",
              "25%                      0.000000     17.000000   2018.000000       5.000000   \n",
              "50%                      0.000000     57.000000   2018.000000       8.000000   \n",
              "75%                      0.000000    126.000000   2018.000000      10.000000   \n",
              "max                      1.000000    443.000000   2018.000000      12.000000   \n",
              "\n",
              "       arrival_date  repeated_guest  no_of_previous_cancellations  \\\n",
              "count  36275.000000    36275.000000                  36275.000000   \n",
              "mean      15.596995        0.025637                      0.023349   \n",
              "std        8.740447        0.158053                      0.368331   \n",
              "min        1.000000        0.000000                      0.000000   \n",
              "25%        8.000000        0.000000                      0.000000   \n",
              "50%       16.000000        0.000000                      0.000000   \n",
              "75%       23.000000        0.000000                      0.000000   \n",
              "max       31.000000        1.000000                     13.000000   \n",
              "\n",
              "       no_of_previous_bookings_not_canceled  avg_price_per_room  \\\n",
              "count                          36275.000000        36275.000000   \n",
              "mean                               0.153411          103.423539   \n",
              "std                                1.754171           35.089424   \n",
              "min                                0.000000            0.000000   \n",
              "25%                                0.000000           80.300000   \n",
              "50%                                0.000000           99.450000   \n",
              "75%                                0.000000          120.000000   \n",
              "max                               58.000000          540.000000   \n",
              "\n",
              "       no_of_special_requests  \n",
              "count            36275.000000  \n",
              "mean                 0.619655  \n",
              "std                  0.786236  \n",
              "min                  0.000000  \n",
              "25%                  0.000000  \n",
              "50%                  0.000000  \n",
              "75%                  1.000000  \n",
              "max                  5.000000  "
            ],
            "text/html": [
              "\n",
              "  <div id=\"df-b9082ab0-bffd-4655-a496-0f3002c9632a\">\n",
              "    <div class=\"colab-df-container\">\n",
              "      <div>\n",
              "<style scoped>\n",
              "    .dataframe tbody tr th:only-of-type {\n",
              "        vertical-align: middle;\n",
              "    }\n",
              "\n",
              "    .dataframe tbody tr th {\n",
              "        vertical-align: top;\n",
              "    }\n",
              "\n",
              "    .dataframe thead th {\n",
              "        text-align: right;\n",
              "    }\n",
              "</style>\n",
              "<table border=\"1\" class=\"dataframe\">\n",
              "  <thead>\n",
              "    <tr style=\"text-align: right;\">\n",
              "      <th></th>\n",
              "      <th>no_of_adults</th>\n",
              "      <th>no_of_children</th>\n",
              "      <th>no_of_weekend_nights</th>\n",
              "      <th>no_of_week_nights</th>\n",
              "      <th>required_car_parking_space</th>\n",
              "      <th>lead_time</th>\n",
              "      <th>arrival_year</th>\n",
              "      <th>arrival_month</th>\n",
              "      <th>arrival_date</th>\n",
              "      <th>repeated_guest</th>\n",
              "      <th>no_of_previous_cancellations</th>\n",
              "      <th>no_of_previous_bookings_not_canceled</th>\n",
              "      <th>avg_price_per_room</th>\n",
              "      <th>no_of_special_requests</th>\n",
              "    </tr>\n",
              "  </thead>\n",
              "  <tbody>\n",
              "    <tr>\n",
              "      <th>count</th>\n",
              "      <td>36275.000000</td>\n",
              "      <td>36275.000000</td>\n",
              "      <td>36275.000000</td>\n",
              "      <td>36275.000000</td>\n",
              "      <td>36275.000000</td>\n",
              "      <td>36275.000000</td>\n",
              "      <td>36275.000000</td>\n",
              "      <td>36275.000000</td>\n",
              "      <td>36275.000000</td>\n",
              "      <td>36275.000000</td>\n",
              "      <td>36275.000000</td>\n",
              "      <td>36275.000000</td>\n",
              "      <td>36275.000000</td>\n",
              "      <td>36275.000000</td>\n",
              "    </tr>\n",
              "    <tr>\n",
              "      <th>mean</th>\n",
              "      <td>1.844962</td>\n",
              "      <td>0.105279</td>\n",
              "      <td>0.810724</td>\n",
              "      <td>2.204300</td>\n",
              "      <td>0.030986</td>\n",
              "      <td>85.232557</td>\n",
              "      <td>2017.820427</td>\n",
              "      <td>7.423653</td>\n",
              "      <td>15.596995</td>\n",
              "      <td>0.025637</td>\n",
              "      <td>0.023349</td>\n",
              "      <td>0.153411</td>\n",
              "      <td>103.423539</td>\n",
              "      <td>0.619655</td>\n",
              "    </tr>\n",
              "    <tr>\n",
              "      <th>std</th>\n",
              "      <td>0.518715</td>\n",
              "      <td>0.402648</td>\n",
              "      <td>0.870644</td>\n",
              "      <td>1.410905</td>\n",
              "      <td>0.173281</td>\n",
              "      <td>85.930817</td>\n",
              "      <td>0.383836</td>\n",
              "      <td>3.069894</td>\n",
              "      <td>8.740447</td>\n",
              "      <td>0.158053</td>\n",
              "      <td>0.368331</td>\n",
              "      <td>1.754171</td>\n",
              "      <td>35.089424</td>\n",
              "      <td>0.786236</td>\n",
              "    </tr>\n",
              "    <tr>\n",
              "      <th>min</th>\n",
              "      <td>0.000000</td>\n",
              "      <td>0.000000</td>\n",
              "      <td>0.000000</td>\n",
              "      <td>0.000000</td>\n",
              "      <td>0.000000</td>\n",
              "      <td>0.000000</td>\n",
              "      <td>2017.000000</td>\n",
              "      <td>1.000000</td>\n",
              "      <td>1.000000</td>\n",
              "      <td>0.000000</td>\n",
              "      <td>0.000000</td>\n",
              "      <td>0.000000</td>\n",
              "      <td>0.000000</td>\n",
              "      <td>0.000000</td>\n",
              "    </tr>\n",
              "    <tr>\n",
              "      <th>25%</th>\n",
              "      <td>2.000000</td>\n",
              "      <td>0.000000</td>\n",
              "      <td>0.000000</td>\n",
              "      <td>1.000000</td>\n",
              "      <td>0.000000</td>\n",
              "      <td>17.000000</td>\n",
              "      <td>2018.000000</td>\n",
              "      <td>5.000000</td>\n",
              "      <td>8.000000</td>\n",
              "      <td>0.000000</td>\n",
              "      <td>0.000000</td>\n",
              "      <td>0.000000</td>\n",
              "      <td>80.300000</td>\n",
              "      <td>0.000000</td>\n",
              "    </tr>\n",
              "    <tr>\n",
              "      <th>50%</th>\n",
              "      <td>2.000000</td>\n",
              "      <td>0.000000</td>\n",
              "      <td>1.000000</td>\n",
              "      <td>2.000000</td>\n",
              "      <td>0.000000</td>\n",
              "      <td>57.000000</td>\n",
              "      <td>2018.000000</td>\n",
              "      <td>8.000000</td>\n",
              "      <td>16.000000</td>\n",
              "      <td>0.000000</td>\n",
              "      <td>0.000000</td>\n",
              "      <td>0.000000</td>\n",
              "      <td>99.450000</td>\n",
              "      <td>0.000000</td>\n",
              "    </tr>\n",
              "    <tr>\n",
              "      <th>75%</th>\n",
              "      <td>2.000000</td>\n",
              "      <td>0.000000</td>\n",
              "      <td>2.000000</td>\n",
              "      <td>3.000000</td>\n",
              "      <td>0.000000</td>\n",
              "      <td>126.000000</td>\n",
              "      <td>2018.000000</td>\n",
              "      <td>10.000000</td>\n",
              "      <td>23.000000</td>\n",
              "      <td>0.000000</td>\n",
              "      <td>0.000000</td>\n",
              "      <td>0.000000</td>\n",
              "      <td>120.000000</td>\n",
              "      <td>1.000000</td>\n",
              "    </tr>\n",
              "    <tr>\n",
              "      <th>max</th>\n",
              "      <td>4.000000</td>\n",
              "      <td>10.000000</td>\n",
              "      <td>7.000000</td>\n",
              "      <td>17.000000</td>\n",
              "      <td>1.000000</td>\n",
              "      <td>443.000000</td>\n",
              "      <td>2018.000000</td>\n",
              "      <td>12.000000</td>\n",
              "      <td>31.000000</td>\n",
              "      <td>1.000000</td>\n",
              "      <td>13.000000</td>\n",
              "      <td>58.000000</td>\n",
              "      <td>540.000000</td>\n",
              "      <td>5.000000</td>\n",
              "    </tr>\n",
              "  </tbody>\n",
              "</table>\n",
              "</div>\n",
              "      <button class=\"colab-df-convert\" onclick=\"convertToInteractive('df-b9082ab0-bffd-4655-a496-0f3002c9632a')\"\n",
              "              title=\"Convert this dataframe to an interactive table.\"\n",
              "              style=\"display:none;\">\n",
              "        \n",
              "  <svg xmlns=\"http://www.w3.org/2000/svg\" height=\"24px\"viewBox=\"0 0 24 24\"\n",
              "       width=\"24px\">\n",
              "    <path d=\"M0 0h24v24H0V0z\" fill=\"none\"/>\n",
              "    <path d=\"M18.56 5.44l.94 2.06.94-2.06 2.06-.94-2.06-.94-.94-2.06-.94 2.06-2.06.94zm-11 1L8.5 8.5l.94-2.06 2.06-.94-2.06-.94L8.5 2.5l-.94 2.06-2.06.94zm10 10l.94 2.06.94-2.06 2.06-.94-2.06-.94-.94-2.06-.94 2.06-2.06.94z\"/><path d=\"M17.41 7.96l-1.37-1.37c-.4-.4-.92-.59-1.43-.59-.52 0-1.04.2-1.43.59L10.3 9.45l-7.72 7.72c-.78.78-.78 2.05 0 2.83L4 21.41c.39.39.9.59 1.41.59.51 0 1.02-.2 1.41-.59l7.78-7.78 2.81-2.81c.8-.78.8-2.07 0-2.86zM5.41 20L4 18.59l7.72-7.72 1.47 1.35L5.41 20z\"/>\n",
              "  </svg>\n",
              "      </button>\n",
              "      \n",
              "  <style>\n",
              "    .colab-df-container {\n",
              "      display:flex;\n",
              "      flex-wrap:wrap;\n",
              "      gap: 12px;\n",
              "    }\n",
              "\n",
              "    .colab-df-convert {\n",
              "      background-color: #E8F0FE;\n",
              "      border: none;\n",
              "      border-radius: 50%;\n",
              "      cursor: pointer;\n",
              "      display: none;\n",
              "      fill: #1967D2;\n",
              "      height: 32px;\n",
              "      padding: 0 0 0 0;\n",
              "      width: 32px;\n",
              "    }\n",
              "\n",
              "    .colab-df-convert:hover {\n",
              "      background-color: #E2EBFA;\n",
              "      box-shadow: 0px 1px 2px rgba(60, 64, 67, 0.3), 0px 1px 3px 1px rgba(60, 64, 67, 0.15);\n",
              "      fill: #174EA6;\n",
              "    }\n",
              "\n",
              "    [theme=dark] .colab-df-convert {\n",
              "      background-color: #3B4455;\n",
              "      fill: #D2E3FC;\n",
              "    }\n",
              "\n",
              "    [theme=dark] .colab-df-convert:hover {\n",
              "      background-color: #434B5C;\n",
              "      box-shadow: 0px 1px 3px 1px rgba(0, 0, 0, 0.15);\n",
              "      filter: drop-shadow(0px 1px 2px rgba(0, 0, 0, 0.3));\n",
              "      fill: #FFFFFF;\n",
              "    }\n",
              "  </style>\n",
              "\n",
              "      <script>\n",
              "        const buttonEl =\n",
              "          document.querySelector('#df-b9082ab0-bffd-4655-a496-0f3002c9632a button.colab-df-convert');\n",
              "        buttonEl.style.display =\n",
              "          google.colab.kernel.accessAllowed ? 'block' : 'none';\n",
              "\n",
              "        async function convertToInteractive(key) {\n",
              "          const element = document.querySelector('#df-b9082ab0-bffd-4655-a496-0f3002c9632a');\n",
              "          const dataTable =\n",
              "            await google.colab.kernel.invokeFunction('convertToInteractive',\n",
              "                                                     [key], {});\n",
              "          if (!dataTable) return;\n",
              "\n",
              "          const docLinkHtml = 'Like what you see? Visit the ' +\n",
              "            '<a target=\"_blank\" href=https://colab.research.google.com/notebooks/data_table.ipynb>data table notebook</a>'\n",
              "            + ' to learn more about interactive tables.';\n",
              "          element.innerHTML = '';\n",
              "          dataTable['output_type'] = 'display_data';\n",
              "          await google.colab.output.renderOutput(dataTable, element);\n",
              "          const docLink = document.createElement('div');\n",
              "          docLink.innerHTML = docLinkHtml;\n",
              "          element.appendChild(docLink);\n",
              "        }\n",
              "      </script>\n",
              "    </div>\n",
              "  </div>\n",
              "  "
            ]
          },
          "metadata": {},
          "execution_count": 8
        }
      ]
    },
    {
      "cell_type": "markdown",
      "source": [
        "**Visualization / Data Wrangling**"
      ],
      "metadata": {
        "id": "jLdqV3aTrHmg"
      }
    },
    {
      "cell_type": "code",
      "source": [
        "df.isnull().sum()"
      ],
      "metadata": {
        "id": "EIC0nqOMawu_",
        "colab": {
          "base_uri": "https://localhost:8080/"
        },
        "outputId": "e6d54a26-c1c5-48ef-c04c-84d5c705d750"
      },
      "execution_count": 9,
      "outputs": [
        {
          "output_type": "execute_result",
          "data": {
            "text/plain": [
              "Booking_ID                              0\n",
              "no_of_adults                            3\n",
              "no_of_children                          3\n",
              "no_of_weekend_nights                    3\n",
              "no_of_week_nights                       3\n",
              "type_of_meal_plan                       3\n",
              "required_car_parking_space              3\n",
              "room_type_reserved                      3\n",
              "lead_time                               3\n",
              "arrival_year                            3\n",
              "arrival_month                           3\n",
              "arrival_date                            3\n",
              "market_segment_type                     3\n",
              "repeated_guest                          3\n",
              "no_of_previous_cancellations            3\n",
              "no_of_previous_bookings_not_canceled    3\n",
              "avg_price_per_room                      3\n",
              "no_of_special_requests                  3\n",
              "booking_status                          3\n",
              "dtype: int64"
            ]
          },
          "metadata": {},
          "execution_count": 9
        }
      ]
    },
    {
      "cell_type": "code",
      "source": [
        "df=df.dropna()"
      ],
      "metadata": {
        "id": "HY1hqhN_awx5"
      },
      "execution_count": 10,
      "outputs": []
    },
    {
      "cell_type": "code",
      "source": [
        "df.shape"
      ],
      "metadata": {
        "colab": {
          "base_uri": "https://localhost:8080/"
        },
        "id": "lZbYDHBmaw08",
        "outputId": "69877652-1afd-44fb-b089-9c144bc0759c"
      },
      "execution_count": 11,
      "outputs": [
        {
          "output_type": "execute_result",
          "data": {
            "text/plain": [
              "(36275, 19)"
            ]
          },
          "metadata": {},
          "execution_count": 11
        }
      ]
    },
    {
      "cell_type": "code",
      "source": [
        "corr_matrix=df.corr(method='spearman')\n",
        "df.corr()"
      ],
      "metadata": {
        "id": "4AEkInlLaw39",
        "colab": {
          "base_uri": "https://localhost:8080/",
          "height": 552
        },
        "outputId": "a175f6ff-17a0-49fa-d19e-920eae455056"
      },
      "execution_count": 12,
      "outputs": [
        {
          "output_type": "execute_result",
          "data": {
            "text/plain": [
              "                                      no_of_adults  no_of_children  \\\n",
              "no_of_adults                              1.000000       -0.019787   \n",
              "no_of_children                           -0.019787        1.000000   \n",
              "no_of_weekend_nights                      0.103316        0.029478   \n",
              "no_of_week_nights                         0.105622        0.024398   \n",
              "required_car_parking_space                0.011429        0.034244   \n",
              "lead_time                                 0.097287       -0.047091   \n",
              "arrival_year                              0.076719        0.045983   \n",
              "arrival_month                             0.021841       -0.003076   \n",
              "arrival_date                              0.026338        0.025482   \n",
              "repeated_guest                           -0.192277       -0.036348   \n",
              "no_of_previous_cancellations             -0.047426       -0.016390   \n",
              "no_of_previous_bookings_not_canceled     -0.119166       -0.021189   \n",
              "avg_price_per_room                        0.296886        0.337728   \n",
              "no_of_special_requests                    0.189401        0.124486   \n",
              "\n",
              "                                      no_of_weekend_nights  no_of_week_nights  \\\n",
              "no_of_adults                                      0.103316           0.105622   \n",
              "no_of_children                                    0.029478           0.024398   \n",
              "no_of_weekend_nights                              1.000000           0.179577   \n",
              "no_of_week_nights                                 0.179577           1.000000   \n",
              "required_car_parking_space                       -0.031111          -0.048784   \n",
              "lead_time                                         0.046595           0.149650   \n",
              "arrival_year                                      0.055357           0.032672   \n",
              "arrival_month                                    -0.009894           0.037376   \n",
              "arrival_date                                      0.027304          -0.009305   \n",
              "repeated_guest                                   -0.067107          -0.099764   \n",
              "no_of_previous_cancellations                     -0.020690          -0.030080   \n",
              "no_of_previous_bookings_not_canceled             -0.026312          -0.049344   \n",
              "avg_price_per_room                               -0.004525           0.022753   \n",
              "no_of_special_requests                            0.060593           0.045994   \n",
              "\n",
              "                                      required_car_parking_space  lead_time  \\\n",
              "no_of_adults                                            0.011429   0.097287   \n",
              "no_of_children                                          0.034244  -0.047091   \n",
              "no_of_weekend_nights                                   -0.031111   0.046595   \n",
              "no_of_week_nights                                      -0.048784   0.149650   \n",
              "required_car_parking_space                              1.000000  -0.066445   \n",
              "lead_time                                              -0.066445   1.000000   \n",
              "arrival_year                                            0.015684   0.143439   \n",
              "arrival_month                                          -0.015505   0.136814   \n",
              "arrival_date                                           -0.000037   0.006479   \n",
              "repeated_guest                                          0.110909  -0.135984   \n",
              "no_of_previous_cancellations                            0.027106  -0.045723   \n",
              "no_of_previous_bookings_not_canceled                    0.063810  -0.078137   \n",
              "avg_price_per_room                                      0.061304  -0.062596   \n",
              "no_of_special_requests                                  0.087922  -0.101645   \n",
              "\n",
              "                                      arrival_year  arrival_month  \\\n",
              "no_of_adults                              0.076719       0.021841   \n",
              "no_of_children                            0.045983      -0.003076   \n",
              "no_of_weekend_nights                      0.055357      -0.009894   \n",
              "no_of_week_nights                         0.032672       0.037376   \n",
              "required_car_parking_space                0.015684      -0.015505   \n",
              "lead_time                                 0.143439       0.136814   \n",
              "arrival_year                              1.000000      -0.339689   \n",
              "arrival_month                            -0.339689       1.000000   \n",
              "arrival_date                              0.018849      -0.042780   \n",
              "repeated_guest                           -0.018175       0.000341   \n",
              "no_of_previous_cancellations              0.003919      -0.038615   \n",
              "no_of_previous_bookings_not_canceled      0.026422      -0.010718   \n",
              "avg_price_per_room                        0.178605       0.054423   \n",
              "no_of_special_requests                    0.053205       0.110552   \n",
              "\n",
              "                                      arrival_date  repeated_guest  \\\n",
              "no_of_adults                              0.026338       -0.192277   \n",
              "no_of_children                            0.025482       -0.036348   \n",
              "no_of_weekend_nights                      0.027304       -0.067107   \n",
              "no_of_week_nights                        -0.009305       -0.099764   \n",
              "required_car_parking_space               -0.000037        0.110909   \n",
              "lead_time                                 0.006479       -0.135984   \n",
              "arrival_year                              0.018849       -0.018175   \n",
              "arrival_month                            -0.042780        0.000341   \n",
              "arrival_date                              1.000000       -0.015949   \n",
              "repeated_guest                           -0.015949        1.000000   \n",
              "no_of_previous_cancellations             -0.012542        0.390810   \n",
              "no_of_previous_bookings_not_canceled     -0.001498        0.539156   \n",
              "avg_price_per_room                        0.017898       -0.174900   \n",
              "no_of_special_requests                    0.018352       -0.011820   \n",
              "\n",
              "                                      no_of_previous_cancellations  \\\n",
              "no_of_adults                                             -0.047426   \n",
              "no_of_children                                           -0.016390   \n",
              "no_of_weekend_nights                                     -0.020690   \n",
              "no_of_week_nights                                        -0.030080   \n",
              "required_car_parking_space                                0.027106   \n",
              "lead_time                                                -0.045723   \n",
              "arrival_year                                              0.003919   \n",
              "arrival_month                                            -0.038615   \n",
              "arrival_date                                             -0.012542   \n",
              "repeated_guest                                            0.390810   \n",
              "no_of_previous_cancellations                              1.000000   \n",
              "no_of_previous_bookings_not_canceled                      0.468147   \n",
              "avg_price_per_room                                       -0.063340   \n",
              "no_of_special_requests                                   -0.003317   \n",
              "\n",
              "                                      no_of_previous_bookings_not_canceled  \\\n",
              "no_of_adults                                                     -0.119166   \n",
              "no_of_children                                                   -0.021189   \n",
              "no_of_weekend_nights                                             -0.026312   \n",
              "no_of_week_nights                                                -0.049344   \n",
              "required_car_parking_space                                        0.063810   \n",
              "lead_time                                                        -0.078137   \n",
              "arrival_year                                                      0.026422   \n",
              "arrival_month                                                    -0.010718   \n",
              "arrival_date                                                     -0.001498   \n",
              "repeated_guest                                                    0.539156   \n",
              "no_of_previous_cancellations                                      0.468147   \n",
              "no_of_previous_bookings_not_canceled                              1.000000   \n",
              "avg_price_per_room                                               -0.113684   \n",
              "no_of_special_requests                                            0.027377   \n",
              "\n",
              "                                      avg_price_per_room  \\\n",
              "no_of_adults                                    0.296886   \n",
              "no_of_children                                  0.337728   \n",
              "no_of_weekend_nights                           -0.004525   \n",
              "no_of_week_nights                               0.022753   \n",
              "required_car_parking_space                      0.061304   \n",
              "lead_time                                      -0.062596   \n",
              "arrival_year                                    0.178605   \n",
              "arrival_month                                   0.054423   \n",
              "arrival_date                                    0.017898   \n",
              "repeated_guest                                 -0.174900   \n",
              "no_of_previous_cancellations                   -0.063340   \n",
              "no_of_previous_bookings_not_canceled           -0.113684   \n",
              "avg_price_per_room                              1.000000   \n",
              "no_of_special_requests                          0.184381   \n",
              "\n",
              "                                      no_of_special_requests  \n",
              "no_of_adults                                        0.189401  \n",
              "no_of_children                                      0.124486  \n",
              "no_of_weekend_nights                                0.060593  \n",
              "no_of_week_nights                                   0.045994  \n",
              "required_car_parking_space                          0.087922  \n",
              "lead_time                                          -0.101645  \n",
              "arrival_year                                        0.053205  \n",
              "arrival_month                                       0.110552  \n",
              "arrival_date                                        0.018352  \n",
              "repeated_guest                                     -0.011820  \n",
              "no_of_previous_cancellations                       -0.003317  \n",
              "no_of_previous_bookings_not_canceled                0.027377  \n",
              "avg_price_per_room                                  0.184381  \n",
              "no_of_special_requests                              1.000000  "
            ],
            "text/html": [
              "\n",
              "  <div id=\"df-e483ba63-89c0-495e-b3c1-b2bf0a9ee622\">\n",
              "    <div class=\"colab-df-container\">\n",
              "      <div>\n",
              "<style scoped>\n",
              "    .dataframe tbody tr th:only-of-type {\n",
              "        vertical-align: middle;\n",
              "    }\n",
              "\n",
              "    .dataframe tbody tr th {\n",
              "        vertical-align: top;\n",
              "    }\n",
              "\n",
              "    .dataframe thead th {\n",
              "        text-align: right;\n",
              "    }\n",
              "</style>\n",
              "<table border=\"1\" class=\"dataframe\">\n",
              "  <thead>\n",
              "    <tr style=\"text-align: right;\">\n",
              "      <th></th>\n",
              "      <th>no_of_adults</th>\n",
              "      <th>no_of_children</th>\n",
              "      <th>no_of_weekend_nights</th>\n",
              "      <th>no_of_week_nights</th>\n",
              "      <th>required_car_parking_space</th>\n",
              "      <th>lead_time</th>\n",
              "      <th>arrival_year</th>\n",
              "      <th>arrival_month</th>\n",
              "      <th>arrival_date</th>\n",
              "      <th>repeated_guest</th>\n",
              "      <th>no_of_previous_cancellations</th>\n",
              "      <th>no_of_previous_bookings_not_canceled</th>\n",
              "      <th>avg_price_per_room</th>\n",
              "      <th>no_of_special_requests</th>\n",
              "    </tr>\n",
              "  </thead>\n",
              "  <tbody>\n",
              "    <tr>\n",
              "      <th>no_of_adults</th>\n",
              "      <td>1.000000</td>\n",
              "      <td>-0.019787</td>\n",
              "      <td>0.103316</td>\n",
              "      <td>0.105622</td>\n",
              "      <td>0.011429</td>\n",
              "      <td>0.097287</td>\n",
              "      <td>0.076719</td>\n",
              "      <td>0.021841</td>\n",
              "      <td>0.026338</td>\n",
              "      <td>-0.192277</td>\n",
              "      <td>-0.047426</td>\n",
              "      <td>-0.119166</td>\n",
              "      <td>0.296886</td>\n",
              "      <td>0.189401</td>\n",
              "    </tr>\n",
              "    <tr>\n",
              "      <th>no_of_children</th>\n",
              "      <td>-0.019787</td>\n",
              "      <td>1.000000</td>\n",
              "      <td>0.029478</td>\n",
              "      <td>0.024398</td>\n",
              "      <td>0.034244</td>\n",
              "      <td>-0.047091</td>\n",
              "      <td>0.045983</td>\n",
              "      <td>-0.003076</td>\n",
              "      <td>0.025482</td>\n",
              "      <td>-0.036348</td>\n",
              "      <td>-0.016390</td>\n",
              "      <td>-0.021189</td>\n",
              "      <td>0.337728</td>\n",
              "      <td>0.124486</td>\n",
              "    </tr>\n",
              "    <tr>\n",
              "      <th>no_of_weekend_nights</th>\n",
              "      <td>0.103316</td>\n",
              "      <td>0.029478</td>\n",
              "      <td>1.000000</td>\n",
              "      <td>0.179577</td>\n",
              "      <td>-0.031111</td>\n",
              "      <td>0.046595</td>\n",
              "      <td>0.055357</td>\n",
              "      <td>-0.009894</td>\n",
              "      <td>0.027304</td>\n",
              "      <td>-0.067107</td>\n",
              "      <td>-0.020690</td>\n",
              "      <td>-0.026312</td>\n",
              "      <td>-0.004525</td>\n",
              "      <td>0.060593</td>\n",
              "    </tr>\n",
              "    <tr>\n",
              "      <th>no_of_week_nights</th>\n",
              "      <td>0.105622</td>\n",
              "      <td>0.024398</td>\n",
              "      <td>0.179577</td>\n",
              "      <td>1.000000</td>\n",
              "      <td>-0.048784</td>\n",
              "      <td>0.149650</td>\n",
              "      <td>0.032672</td>\n",
              "      <td>0.037376</td>\n",
              "      <td>-0.009305</td>\n",
              "      <td>-0.099764</td>\n",
              "      <td>-0.030080</td>\n",
              "      <td>-0.049344</td>\n",
              "      <td>0.022753</td>\n",
              "      <td>0.045994</td>\n",
              "    </tr>\n",
              "    <tr>\n",
              "      <th>required_car_parking_space</th>\n",
              "      <td>0.011429</td>\n",
              "      <td>0.034244</td>\n",
              "      <td>-0.031111</td>\n",
              "      <td>-0.048784</td>\n",
              "      <td>1.000000</td>\n",
              "      <td>-0.066445</td>\n",
              "      <td>0.015684</td>\n",
              "      <td>-0.015505</td>\n",
              "      <td>-0.000037</td>\n",
              "      <td>0.110909</td>\n",
              "      <td>0.027106</td>\n",
              "      <td>0.063810</td>\n",
              "      <td>0.061304</td>\n",
              "      <td>0.087922</td>\n",
              "    </tr>\n",
              "    <tr>\n",
              "      <th>lead_time</th>\n",
              "      <td>0.097287</td>\n",
              "      <td>-0.047091</td>\n",
              "      <td>0.046595</td>\n",
              "      <td>0.149650</td>\n",
              "      <td>-0.066445</td>\n",
              "      <td>1.000000</td>\n",
              "      <td>0.143439</td>\n",
              "      <td>0.136814</td>\n",
              "      <td>0.006479</td>\n",
              "      <td>-0.135984</td>\n",
              "      <td>-0.045723</td>\n",
              "      <td>-0.078137</td>\n",
              "      <td>-0.062596</td>\n",
              "      <td>-0.101645</td>\n",
              "    </tr>\n",
              "    <tr>\n",
              "      <th>arrival_year</th>\n",
              "      <td>0.076719</td>\n",
              "      <td>0.045983</td>\n",
              "      <td>0.055357</td>\n",
              "      <td>0.032672</td>\n",
              "      <td>0.015684</td>\n",
              "      <td>0.143439</td>\n",
              "      <td>1.000000</td>\n",
              "      <td>-0.339689</td>\n",
              "      <td>0.018849</td>\n",
              "      <td>-0.018175</td>\n",
              "      <td>0.003919</td>\n",
              "      <td>0.026422</td>\n",
              "      <td>0.178605</td>\n",
              "      <td>0.053205</td>\n",
              "    </tr>\n",
              "    <tr>\n",
              "      <th>arrival_month</th>\n",
              "      <td>0.021841</td>\n",
              "      <td>-0.003076</td>\n",
              "      <td>-0.009894</td>\n",
              "      <td>0.037376</td>\n",
              "      <td>-0.015505</td>\n",
              "      <td>0.136814</td>\n",
              "      <td>-0.339689</td>\n",
              "      <td>1.000000</td>\n",
              "      <td>-0.042780</td>\n",
              "      <td>0.000341</td>\n",
              "      <td>-0.038615</td>\n",
              "      <td>-0.010718</td>\n",
              "      <td>0.054423</td>\n",
              "      <td>0.110552</td>\n",
              "    </tr>\n",
              "    <tr>\n",
              "      <th>arrival_date</th>\n",
              "      <td>0.026338</td>\n",
              "      <td>0.025482</td>\n",
              "      <td>0.027304</td>\n",
              "      <td>-0.009305</td>\n",
              "      <td>-0.000037</td>\n",
              "      <td>0.006479</td>\n",
              "      <td>0.018849</td>\n",
              "      <td>-0.042780</td>\n",
              "      <td>1.000000</td>\n",
              "      <td>-0.015949</td>\n",
              "      <td>-0.012542</td>\n",
              "      <td>-0.001498</td>\n",
              "      <td>0.017898</td>\n",
              "      <td>0.018352</td>\n",
              "    </tr>\n",
              "    <tr>\n",
              "      <th>repeated_guest</th>\n",
              "      <td>-0.192277</td>\n",
              "      <td>-0.036348</td>\n",
              "      <td>-0.067107</td>\n",
              "      <td>-0.099764</td>\n",
              "      <td>0.110909</td>\n",
              "      <td>-0.135984</td>\n",
              "      <td>-0.018175</td>\n",
              "      <td>0.000341</td>\n",
              "      <td>-0.015949</td>\n",
              "      <td>1.000000</td>\n",
              "      <td>0.390810</td>\n",
              "      <td>0.539156</td>\n",
              "      <td>-0.174900</td>\n",
              "      <td>-0.011820</td>\n",
              "    </tr>\n",
              "    <tr>\n",
              "      <th>no_of_previous_cancellations</th>\n",
              "      <td>-0.047426</td>\n",
              "      <td>-0.016390</td>\n",
              "      <td>-0.020690</td>\n",
              "      <td>-0.030080</td>\n",
              "      <td>0.027106</td>\n",
              "      <td>-0.045723</td>\n",
              "      <td>0.003919</td>\n",
              "      <td>-0.038615</td>\n",
              "      <td>-0.012542</td>\n",
              "      <td>0.390810</td>\n",
              "      <td>1.000000</td>\n",
              "      <td>0.468147</td>\n",
              "      <td>-0.063340</td>\n",
              "      <td>-0.003317</td>\n",
              "    </tr>\n",
              "    <tr>\n",
              "      <th>no_of_previous_bookings_not_canceled</th>\n",
              "      <td>-0.119166</td>\n",
              "      <td>-0.021189</td>\n",
              "      <td>-0.026312</td>\n",
              "      <td>-0.049344</td>\n",
              "      <td>0.063810</td>\n",
              "      <td>-0.078137</td>\n",
              "      <td>0.026422</td>\n",
              "      <td>-0.010718</td>\n",
              "      <td>-0.001498</td>\n",
              "      <td>0.539156</td>\n",
              "      <td>0.468147</td>\n",
              "      <td>1.000000</td>\n",
              "      <td>-0.113684</td>\n",
              "      <td>0.027377</td>\n",
              "    </tr>\n",
              "    <tr>\n",
              "      <th>avg_price_per_room</th>\n",
              "      <td>0.296886</td>\n",
              "      <td>0.337728</td>\n",
              "      <td>-0.004525</td>\n",
              "      <td>0.022753</td>\n",
              "      <td>0.061304</td>\n",
              "      <td>-0.062596</td>\n",
              "      <td>0.178605</td>\n",
              "      <td>0.054423</td>\n",
              "      <td>0.017898</td>\n",
              "      <td>-0.174900</td>\n",
              "      <td>-0.063340</td>\n",
              "      <td>-0.113684</td>\n",
              "      <td>1.000000</td>\n",
              "      <td>0.184381</td>\n",
              "    </tr>\n",
              "    <tr>\n",
              "      <th>no_of_special_requests</th>\n",
              "      <td>0.189401</td>\n",
              "      <td>0.124486</td>\n",
              "      <td>0.060593</td>\n",
              "      <td>0.045994</td>\n",
              "      <td>0.087922</td>\n",
              "      <td>-0.101645</td>\n",
              "      <td>0.053205</td>\n",
              "      <td>0.110552</td>\n",
              "      <td>0.018352</td>\n",
              "      <td>-0.011820</td>\n",
              "      <td>-0.003317</td>\n",
              "      <td>0.027377</td>\n",
              "      <td>0.184381</td>\n",
              "      <td>1.000000</td>\n",
              "    </tr>\n",
              "  </tbody>\n",
              "</table>\n",
              "</div>\n",
              "      <button class=\"colab-df-convert\" onclick=\"convertToInteractive('df-e483ba63-89c0-495e-b3c1-b2bf0a9ee622')\"\n",
              "              title=\"Convert this dataframe to an interactive table.\"\n",
              "              style=\"display:none;\">\n",
              "        \n",
              "  <svg xmlns=\"http://www.w3.org/2000/svg\" height=\"24px\"viewBox=\"0 0 24 24\"\n",
              "       width=\"24px\">\n",
              "    <path d=\"M0 0h24v24H0V0z\" fill=\"none\"/>\n",
              "    <path d=\"M18.56 5.44l.94 2.06.94-2.06 2.06-.94-2.06-.94-.94-2.06-.94 2.06-2.06.94zm-11 1L8.5 8.5l.94-2.06 2.06-.94-2.06-.94L8.5 2.5l-.94 2.06-2.06.94zm10 10l.94 2.06.94-2.06 2.06-.94-2.06-.94-.94-2.06-.94 2.06-2.06.94z\"/><path d=\"M17.41 7.96l-1.37-1.37c-.4-.4-.92-.59-1.43-.59-.52 0-1.04.2-1.43.59L10.3 9.45l-7.72 7.72c-.78.78-.78 2.05 0 2.83L4 21.41c.39.39.9.59 1.41.59.51 0 1.02-.2 1.41-.59l7.78-7.78 2.81-2.81c.8-.78.8-2.07 0-2.86zM5.41 20L4 18.59l7.72-7.72 1.47 1.35L5.41 20z\"/>\n",
              "  </svg>\n",
              "      </button>\n",
              "      \n",
              "  <style>\n",
              "    .colab-df-container {\n",
              "      display:flex;\n",
              "      flex-wrap:wrap;\n",
              "      gap: 12px;\n",
              "    }\n",
              "\n",
              "    .colab-df-convert {\n",
              "      background-color: #E8F0FE;\n",
              "      border: none;\n",
              "      border-radius: 50%;\n",
              "      cursor: pointer;\n",
              "      display: none;\n",
              "      fill: #1967D2;\n",
              "      height: 32px;\n",
              "      padding: 0 0 0 0;\n",
              "      width: 32px;\n",
              "    }\n",
              "\n",
              "    .colab-df-convert:hover {\n",
              "      background-color: #E2EBFA;\n",
              "      box-shadow: 0px 1px 2px rgba(60, 64, 67, 0.3), 0px 1px 3px 1px rgba(60, 64, 67, 0.15);\n",
              "      fill: #174EA6;\n",
              "    }\n",
              "\n",
              "    [theme=dark] .colab-df-convert {\n",
              "      background-color: #3B4455;\n",
              "      fill: #D2E3FC;\n",
              "    }\n",
              "\n",
              "    [theme=dark] .colab-df-convert:hover {\n",
              "      background-color: #434B5C;\n",
              "      box-shadow: 0px 1px 3px 1px rgba(0, 0, 0, 0.15);\n",
              "      filter: drop-shadow(0px 1px 2px rgba(0, 0, 0, 0.3));\n",
              "      fill: #FFFFFF;\n",
              "    }\n",
              "  </style>\n",
              "\n",
              "      <script>\n",
              "        const buttonEl =\n",
              "          document.querySelector('#df-e483ba63-89c0-495e-b3c1-b2bf0a9ee622 button.colab-df-convert');\n",
              "        buttonEl.style.display =\n",
              "          google.colab.kernel.accessAllowed ? 'block' : 'none';\n",
              "\n",
              "        async function convertToInteractive(key) {\n",
              "          const element = document.querySelector('#df-e483ba63-89c0-495e-b3c1-b2bf0a9ee622');\n",
              "          const dataTable =\n",
              "            await google.colab.kernel.invokeFunction('convertToInteractive',\n",
              "                                                     [key], {});\n",
              "          if (!dataTable) return;\n",
              "\n",
              "          const docLinkHtml = 'Like what you see? Visit the ' +\n",
              "            '<a target=\"_blank\" href=https://colab.research.google.com/notebooks/data_table.ipynb>data table notebook</a>'\n",
              "            + ' to learn more about interactive tables.';\n",
              "          element.innerHTML = '';\n",
              "          dataTable['output_type'] = 'display_data';\n",
              "          await google.colab.output.renderOutput(dataTable, element);\n",
              "          const docLink = document.createElement('div');\n",
              "          docLink.innerHTML = docLinkHtml;\n",
              "          element.appendChild(docLink);\n",
              "        }\n",
              "      </script>\n",
              "    </div>\n",
              "  </div>\n",
              "  "
            ]
          },
          "metadata": {},
          "execution_count": 12
        }
      ]
    },
    {
      "cell_type": "code",
      "source": [
        "hm = sns.heatmap(data = corr_matrix)\n",
        "plt.show()"
      ],
      "metadata": {
        "id": "VotwqUIjaw7O",
        "colab": {
          "base_uri": "https://localhost:8080/",
          "height": 455
        },
        "outputId": "4c4efa98-65e5-47c9-b8ed-884c9beaed2a"
      },
      "execution_count": 13,
      "outputs": [
        {
          "output_type": "display_data",
          "data": {
            "text/plain": [
              "<Figure size 432x288 with 2 Axes>"
            ],
            "image/png": "[encoded data removed]"
          },
          "metadata": {
            "needs_background": "light"
          }
        }
      ]
    },
    {
      "cell_type": "code",
      "source": [
        "df['cancelled'] = df['no_of_previous_cancellations'].apply(lambda x: 0.0 if x > 0 else 'not cancelled')\n",
        "\n",
        "\n",
        "guest_counts = df.groupby('cancelled')['no_of_adults'].count()\n",
        "\n",
        "# plot the resulting DataFrame as a bar chart\n",
        "guest_counts.plot(kind='bar')\n",
        "plt.title('Total Number of Guests by Cancellation Status')\n",
        "plt.xlabel('Cancellation Status')\n",
        "plt.ylabel('Total Number of Guests')\n",
        "plt.show()\n"
      ],
      "metadata": {
        "colab": {
          "base_uri": "https://localhost:8080/",
          "height": 353
        },
        "id": "d9q6AX4djjyj",
        "outputId": "61778c58-30b1-476a-c508-58012f621e07"
      },
      "execution_count": 14,
      "outputs": [
        {
          "output_type": "display_data",
          "data": {
            "text/plain": [
              "<Figure size 432x288 with 1 Axes>"
            ],
            "image/png": "[encoded data removed]"
          },
          "metadata": {
            "needs_background": "light"
          }
        }
      ]
    },
    {
      "cell_type": "code",
      "source": [
        "df['no_of_previous_cancellations'].value_counts()"
      ],
      "metadata": {
        "colab": {
          "base_uri": "https://localhost:8080/"
        },
        "id": "NVHPdkfshbgi",
        "outputId": "32e29e77-ccb1-4e1c-fed4-2ab8e957e73a"
      },
      "execution_count": 15,
      "outputs": [
        {
          "output_type": "execute_result",
          "data": {
            "text/plain": [
              "0.0     35937\n",
              "1.0       198\n",
              "2.0        46\n",
              "3.0        43\n",
              "11.0       25\n",
              "5.0        11\n",
              "4.0        10\n",
              "13.0        4\n",
              "6.0         1\n",
              "Name: no_of_previous_cancellations, dtype: int64"
            ]
          },
          "metadata": {},
          "execution_count": 15
        }
      ]
    },
    {
      "cell_type": "code",
      "source": [
        "# plt.clf()\n",
        "# plt.rcParams[\"figure.figsize\"]=[10,5]\n",
        "# df.groupby(['no_of_previous_cancellations','no_of_week_nights']).size().plot(kind='bar')\n",
        "# plt.xlabel(\"\\ncombinations\")\n",
        "# plt.show()"
      ],
      "metadata": {
        "id": "JWx1ZiRoVdAS"
      },
      "execution_count": null,
      "outputs": []
    },
    {
      "cell_type": "markdown",
      "source": [
        "**Data split (X,y, train, test)**"
      ],
      "metadata": {
        "id": "8MIm4VGwwweK"
      }
    },
    {
      "cell_type": "code",
      "source": [
        "X=df.iloc[:,0:18].values\n",
        "y=df.iloc[:,18].values"
      ],
      "metadata": {
        "id": "zdWOQr51wsBW"
      },
      "execution_count": 19,
      "outputs": []
    },
    {
      "cell_type": "code",
      "source": [
        "from sklearn.compose import ColumnTransformer\n",
        "from sklearn.preprocessing import OneHotEncoder\n",
        "ct=ColumnTransformer(transformers=[('encoder',OneHotEncoder(),[0,5,7,12])],remainder='passthrough')\n",
        "X=ct.fit_transform(X)"
      ],
      "metadata": {
        "id": "zvPzXfUS1ouy"
      },
      "execution_count": 20,
      "outputs": []
    },
    {
      "cell_type": "code",
      "source": [
        "from sklearn.model_selection import train_test_split\n",
        "X_train,X_test,y_train,y_test=train_test_split(X,y,test_size=0.20)"
      ],
      "metadata": {
        "id": "X0MJZ58nKj9Q"
      },
      "execution_count": 21,
      "outputs": []
    },
    {
      "cell_type": "markdown",
      "source": [
        "**ML Method 1**"
      ],
      "metadata": {
        "id": "Mg8Lm8uixrdo"
      }
    },
    {
      "cell_type": "code",
      "source": [
        "rfc=RandomForestClassifier(n_estimators=18,random_state=42)\n",
        "rfc.fit(X_train,y_train)\n",
        "preds = rfc.predict(X_test) \n"
      ],
      "metadata": {
        "id": "LJCj2IEhwsNE"
      },
      "execution_count": 22,
      "outputs": []
    },
    {
      "cell_type": "code",
      "source": [
        "# print(\"Not cancelled are \",df[df['booking_status']=='Not_Canceled'].Booking_ID.count())\n",
        "# print(\"cancelled are \",df[df['booking_status']=='Canceled'].Booking_ID.count())"
      ],
      "metadata": {
        "id": "K8SgBqBz-e4K"
      },
      "execution_count": null,
      "outputs": []
    },
    {
      "cell_type": "markdown",
      "source": [
        "**ML Method 2**"
      ],
      "metadata": {
        "id": "e-yo8PHw75c0"
      }
    },
    {
      "cell_type": "code",
      "source": [
        "dt=DecisionTreeClassifier(random_state=42)\n",
        "dt.fit(X_train,y_train)\n"
      ],
      "metadata": {
        "id": "Jr4bgeqz73DJ",
        "colab": {
          "base_uri": "https://localhost:8080/"
        },
        "outputId": "7ad897cc-6246-4e38-998d-e7e77a6f950f"
      },
      "execution_count": 23,
      "outputs": [
        {
          "output_type": "execute_result",
          "data": {
            "text/plain": [
              "DecisionTreeClassifier(random_state=42)"
            ]
          },
          "metadata": {},
          "execution_count": 23
        }
      ]
    },
    {
      "cell_type": "markdown",
      "source": [
        "**ML Method 3**"
      ],
      "metadata": {
        "id": "IeTsEo8O8Esf"
      }
    },
    {
      "cell_type": "code",
      "source": [
        "lr=LogisticRegression(random_state=42)\n",
        "lr.fit(X_train,y_train)"
      ],
      "metadata": {
        "id": "XXkI9EFi73Mv",
        "colab": {
          "base_uri": "https://localhost:8080/"
        },
        "outputId": "c766df7e-07a1-4f93-e580-2b9b240a7a48"
      },
      "execution_count": 24,
      "outputs": [
        {
          "output_type": "execute_result",
          "data": {
            "text/plain": [
              "LogisticRegression(random_state=42)"
            ]
          },
          "metadata": {},
          "execution_count": 24
        }
      ]
    },
    {
      "cell_type": "markdown",
      "source": [
        "**Accuracy Estimation**"
      ],
      "metadata": {
        "id": "vGZbuqrr7DCg"
      }
    },
    {
      "cell_type": "code",
      "source": [
        "from sklearn.metrics import RocCurveDisplay\n",
        "disp = RocCurveDisplay.from_estimator(lr, X_test, y_test)\n",
        "plt.title('Area Under Curve Analysis\\n')\n",
        "RocCurveDisplay.from_estimator(rfc, X_test, y_test, ax=disp.ax_)\n",
        "RocCurveDisplay.from_estimator(dt, X_test, y_test, ax=disp.ax_)\n"
      ],
      "metadata": {
        "colab": {
          "base_uri": "https://localhost:8080/",
          "height": 328
        },
        "id": "3uGFWWzLwsTF",
        "outputId": "9906e9e2-dc54-40b9-f730-4a9c8bc0814f"
      },
      "execution_count": 25,
      "outputs": [
        {
          "output_type": "execute_result",
          "data": {
            "text/plain": [
              "<sklearn.metrics._plot.roc_curve.RocCurveDisplay at 0x7f50695a2d00>"
            ]
          },
          "metadata": {},
          "execution_count": 25
        },
        {
          "output_type": "display_data",
          "data": {
            "text/plain": [
              "<Figure size 432x288 with 1 Axes>"
            ],
            "image/png": "[encoded data removed]"
          },
          "metadata": {
            "needs_background": "light"
          }
        }
      ]
    },
    {
      "cell_type": "code",
      "source": [
        "print(accuracy_score(y_test, rfc.predict(X_test)))"
      ],
      "metadata": {
        "colab": {
          "base_uri": "https://localhost:8080/"
        },
        "id": "5SiN0Gkx6_Mr",
        "outputId": "0765ae03-2373-4120-bcf3-632051af1217"
      },
      "execution_count": 26,
      "outputs": [
        {
          "output_type": "stream",
          "name": "stdout",
          "text": [
            "0.8807718814610613\n"
          ]
        }
      ]
    },
    {
      "cell_type": "markdown",
      "source": [
        "**Confusion Matrix**"
      ],
      "metadata": {
        "id": "CvBu29oTC37e"
      }
    },
    {
      "cell_type": "code",
      "source": [
        "# the count of true negatives is [0,0]; false negatives is [1,0] , true positives is [1,1] and false positives is [0,1].\n",
        "from sklearn.metrics import confusion_matrix\n",
        "confusion_matrix(y_test, preds)"
      ],
      "metadata": {
        "colab": {
          "base_uri": "https://localhost:8080/"
        },
        "id": "fzftQYSJ6_VI",
        "outputId": "f8b7f112-6ee0-4d6f-a3d6-ffb4d0d044e8"
      },
      "execution_count": 27,
      "outputs": [
        {
          "output_type": "execute_result",
          "data": {
            "text/plain": [
              "array([[1815,  579],\n",
              "       [ 286, 4575]])"
            ]
          },
          "metadata": {},
          "execution_count": 27
        }
      ]
    },
    {
      "cell_type": "markdown",
      "source": [
        "**Precision**"
      ],
      "metadata": {
        "id": "fyKcpJl-DGuc"
      }
    },
    {
      "cell_type": "code",
      "source": [
        "from sklearn import metrics\n",
        "\n",
        "precision_positive = metrics.precision_score(y_test, preds, pos_label='Canceled')\n",
        "precision_negative = metrics.precision_score(y_test, preds, pos_label='Not_Canceled')\n",
        "precision_positive, precision_negative "
      ],
      "metadata": {
        "colab": {
          "base_uri": "https://localhost:8080/"
        },
        "id": "EhKckQTZ6_YX",
        "outputId": "1b19da78-d53f-4253-c134-e470acc966d1"
      },
      "execution_count": 28,
      "outputs": [
        {
          "output_type": "execute_result",
          "data": {
            "text/plain": [
              "(0.8638743455497382, 0.8876600698486612)"
            ]
          },
          "metadata": {},
          "execution_count": 28
        }
      ]
    }
  ]
}